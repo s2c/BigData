{
 "cells": [
  {
   "cell_type": "markdown",
   "metadata": {},
   "source": [
    "# Lab 2: Classification (Part 1)"
   ]
  },
  {
   "cell_type": "markdown",
   "metadata": {},
   "source": [
    "# Name: Varun Somani (vsomani2)"
   ]
  },
  {
   "cell_type": "markdown",
   "metadata": {},
   "source": [
    "### Due February 4, 2016 12:00 AM [ This is when Wednesday transitions to Thursday. ]"
   ]
  },
  {
   "cell_type": "markdown",
   "metadata": {},
   "source": [
    "#### Logistics"
   ]
  },
  {
   "cell_type": "markdown",
   "metadata": {},
   "source": [
    "See the course website.\n",
    "\n",
    "<b>Lab submission:</b> \n",
    "\n",
    "Email your completed lab to ligo2@illinois.edu. Your submission should include the IPython notebook with all the code having been run. "
   ]
  },
  {
   "cell_type": "markdown",
   "metadata": {},
   "source": [
    "#### What You Will Need To Know For This Lab"
   ]
  },
  {
   "cell_type": "markdown",
   "metadata": {},
   "source": [
    "This lab covers some basic classifiers which can be used for M-ary classification.\n",
    "\n",
    "- k-Nearest Neighbors\n",
    "- Bayes Classifiers\n",
    "- Linear Discriminant Analysis\n",
    "\n",
    "There are some problems which have short answer questions. <b>Do not write an essay -- a few sentences will suffice.</b>\n",
    "\n",
    "<b>Be clear about your answers.</b> For example, if a question asks you \"Which classifier would you choose?\", be unequivocal about which classifier you would choose (and why); as engineers, part of your job is to make design decisions and justify them in comparison to the alternatives. "
   ]
  },
  {
   "cell_type": "markdown",
   "metadata": {},
   "source": [
    "#### Preamble (Don't change this)"
   ]
  },
  {
   "cell_type": "code",
   "execution_count": 1,
   "metadata": {
    "collapsed": false
   },
   "outputs": [
    {
     "name": "stdout",
     "output_type": "stream",
     "text": [
      "Populating the interactive namespace from numpy and matplotlib\n"
     ]
    }
   ],
   "source": [
    "%pylab inline\n",
    "import numpy as np"
   ]
  },
  {
   "cell_type": "markdown",
   "metadata": {},
   "source": [
    "#### Problem 1 : Bayes Classifiers (20 points)"
   ]
  },
  {
   "cell_type": "markdown",
   "metadata": {},
   "source": [
    "In this section, you will implement a Bayes classifier for the following $M$-ary classification problem:\n",
    "\n",
    "$$H_y: \\mathbf{X} \\sim \\mathcal{N}(\\mathbf{\\mu}_y,\\Sigma) \\qquad y=0,\\ldots,M-1$$\n",
    "\n",
    "i.e. the data is a $d$-dimensional Gaussian with a common covariance matrix among all classes, but the means are different (and there is a prior among the classes). Remember, when the mean vectors, covariance matrix and prior probabilities are known, no classifier can do better than the Bayes classifier.\n",
    "\n",
    "You will write a function which takes in 4 parameters:\n",
    "* A set of data to classify (with rows as feature vectors) as a $(V,d)$ numpy.ndarray (data)\n",
    "* A M-length vector with the prior probabilities of each class as a numpy.ndarray (pi)\n",
    "* A matrix with rows giving the class means as a $(M,d)$ numpy.ndarray (means)\n",
    "* The common covariance matrix as a $(d,d)$ numpy.ndarray (cov)\n",
    "\n",
    "It will output a length $V$ numpy.ndarray of the outputs of the classifier (labels). You may not use scikit-learn or similar to implement this. Note that the class labels in this problem are $0,1,2$ (not $1,2,3$). Since Python uses zero-based indexing, this will allow you to avoid a few +1's in your code. \n",
    "\n",
    "Some hints which will help you write your code compactly:\n",
    "* Using some (or all) of the hints, you should be able to write the Bayes classifier by using operations on numpy arrays, rather than loops. This is known as vectorization or array programming, and it can improve both speed and readibility of code. For example, a reasonably vectorized implementation can be done in under 5 lines. If you cannot figure this out, write your code using loops appropriately. \n",
    "* $\\mathbf{x}^\\top A \\mathbf{y} = \\mathbf{y}^\\top A^\\top \\mathbf{x}$ for a matrix $A$ and vectors $\\mathbf{x},\\mathbf{y}$ of appropriate size.\n",
    "* If $A = \\begin{bmatrix} \\mathbf{a}_1^\\top \\\\ \\vdots \\\\ \\mathbf{a}_m^\\top \\end{bmatrix}$ has $k$ columns and $\\mathbf{v}$ is a vector of length $k$, then $A \\mathbf{v} = \\begin{bmatrix} \\mathbf{a}_1^\\top \\mathbf{v} \\\\ \\vdots \\\\ \\mathbf{a}_N^\\top \\mathbf{v} \\end{bmatrix}$.\n",
    "* Some useful functions that you did not see in Lab 1 (*read the documentation before using them!*): numpy.sum, numpy.log, numpy.argmax.\n",
    "* You may use <a href=\"http://docs.scipy.org/doc/numpy-1.10.1/user/basics.broadcasting.html\">broadcasting</a> to help simplify your code.\n",
    "\n",
    "\n",
    "A function prototype is provided below <b>(10 points)</b>:"
   ]
  },
  {
   "cell_type": "code",
   "execution_count": 13,
   "metadata": {
    "collapsed": false
   },
   "outputs": [],
   "source": [
    "def bayesClassifier(data,pi,means,cov):\n",
    "    #Put your code here\n",
    "    lnPi = np.log(pi)\n",
    "    InCov = numpy.linalg.inv(cov)\n",
    "    inter = numpy.zeroes(shape=(data.shape[0],data.shape[1]))\n",
    "    result = numpy.zeroes(shape=(data.shape[0],))\n",
    "    \n",
    "    for y in xrange(0,means.shape[0] - 1):\n",
    "        for i in xrange(0,data.shape[0]-1):    \n",
    "            cur_data = data[i,:]\n",
    "            curr_mean = means[y,:]\n",
    "            inter[i,y] = lnPi + np.transpose(curr_mean)*InCov*cur_data - (1/2)*np.transpose(curr_mean)*InCov*curr_mean\n",
    "\n",
    "    for i in xrange(0,data.shape[0]-1): \n",
    "        result[i] = np.argmax(data[i,:])\n",
    "    \n",
    "    return result"
   ]
  },
  {
   "cell_type": "markdown",
   "metadata": {},
   "source": [
    "Now, you will write a function which calculates the error of a classifier using the $0,1$-loss by comparing the true labels and the predicted labels. \n",
    "\n",
    "The function will take in two parameters:\n",
    "* A N-vector with the true labels as a numpy.ndarray (truelabels)\n",
    "* A N-vector with the estimated labels as a numpy.ndarray (estimatedlabels)\n",
    "\n",
    "The function will return the error (a scalar).\n",
    "\n",
    "A function prototype is provided below <b>(5 points)</b>:"
   ]
  },
  {
   "cell_type": "code",
   "execution_count": 27,
   "metadata": {
    "collapsed": false
   },
   "outputs": [],
   "source": [
    "def classifierError(truelabels,estimatedlabels):\n",
    "    total = 0\n",
    "    correct = 0\n",
    "    for i in xrange(0,len(estimatedlabels)-1):\n",
    "        total +=1\n",
    "        if(estimatedlabels[i]==truelabels[i]):\n",
    "            correct +=1\n",
    "    return (correct/total)\n"
   ]
  },
  {
   "cell_type": "markdown",
   "metadata": {},
   "source": [
    "Now, we will load some sample data, in the format specified above. \n",
    "We have three classes, with\n",
    "$$\\pi_0=\\frac{1}{3}, \\pi_1=\\frac{1}{2}, \\pi_2=\\frac{1}{6}$$\n",
    "\n",
    "$$\\mathbf{\\mu}_0=\\begin{bmatrix} 5 \\\\ 5\\end{bmatrix},\\mathbf{\\mu}_1=\\begin{bmatrix} 5 \\\\ 0\\end{bmatrix}, \\mathbf{\\mu}_2=\\begin{bmatrix} -1\\\\0\\end{bmatrix} $$\n",
    "\n",
    "$$\\Sigma=\\begin{bmatrix} 3 & 1 \\\\ 1 & 3 \\end{bmatrix}$$\n"
   ]
  },
  {
   "cell_type": "code",
   "execution_count": 21,
   "metadata": {
    "collapsed": false
   },
   "outputs": [],
   "source": [
    "# Loading the data\n",
    "from numpy import genfromtxt\n",
    "problem1_tmp= genfromtxt('val.csv', delimiter=',')\n",
    "\n",
    "#The data which you will use to test the classifier is called \"data\"\n",
    "data=problem1_tmp[:,:2]\n",
    "#The labels are in \"truelabels\"\n",
    "truelabels=problem1_tmp[:,2]\n"
   ]
  },
  {
   "cell_type": "markdown",
   "metadata": {},
   "source": [
    "Let's visualize the data by class. Each class will be in a different color."
   ]
  },
  {
   "cell_type": "code",
   "execution_count": 22,
   "metadata": {
    "collapsed": false
   },
   "outputs": [
    {
     "data": {
      "text/plain": [
       "<matplotlib.collections.PathCollection at 0x92c8eb8>"
      ]
     },
     "execution_count": 22,
     "metadata": {},
     "output_type": "execute_result"
    },
    {
     "data": {
      "image/png": "[encoded data removed]",
      "text/plain": [
       "<matplotlib.figure.Figure at 0x91f9a20>"
      ]
     },
     "metadata": {},
     "output_type": "display_data"
    }
   ],
   "source": [
    "scatter(data[:,0],data[:,1],c=truelabels)"
   ]
  },
  {
   "cell_type": "markdown",
   "metadata": {},
   "source": [
    "Run the classifier and report the classifier's error rate. <b>(5 points)</b>"
   ]
  },
  {
   "cell_type": "code",
   "execution_count": 39,
   "metadata": {
    "collapsed": false
   },
   "outputs": [
    {
     "name": "stdout",
     "output_type": "stream",
     "text": [
      "[[ 5  5]\n",
      " [ 5  0]\n",
      " [-1  0]]\n"
     ]
    }
   ],
   "source": [
    "# Put your code here. Store your estimated labels in a variable called \"estimatedlabels\".\n",
    "cov = np.array([[3,1],[1,3]])\n",
    "pi = np.array([1/float(3),float(1)/2,float(1)/6])\n",
    "means = np.array([[5,5,-1],[5,0,0]])#,[-1,0]])\n",
    "print(means)\n",
    "estimatedlabels = (data,pi,means,cov)\n",
    "#print(estimatedlabels)\n",
    "#classifierError(truelabels,estimatedlabels)"
   ]
  },
  {
   "cell_type": "markdown",
   "metadata": {},
   "source": [
    "The classifier's error rate is [insert your error rate here]."
   ]
  },
  {
   "cell_type": "markdown",
   "metadata": {},
   "source": [
    "Now, let's see which points were assigned to the correct class (blue) and those which are wrong (red). "
   ]
  },
  {
   "cell_type": "code",
   "execution_count": null,
   "metadata": {
    "collapsed": false
   },
   "outputs": [],
   "source": [
    "cmap=['b','r']\n",
    "colors = np.asarray(cmap)[np.asarray(truelabels!=estimatedlabels).astype(int)]\n",
    "scatter(data[:,0],data[:,1],c=colors) "
   ]
  },
  {
   "cell_type": "markdown",
   "metadata": {},
   "source": [
    "And the points which were misclassified (based on which decision boundary they crossed: cmap[i][j] denotes the color for crossing the decision boundary between class i and class j). Note that the decision boundaries in this case are linear, since we have Gaussians with common covariance matrix as our classes."
   ]
  },
  {
   "cell_type": "code",
   "execution_count": null,
   "metadata": {
    "collapsed": false
   },
   "outputs": [],
   "source": [
    "cmap=[['b','r','w'],['r','b','y'],['w','y','b']]\n",
    "colors = np.asarray(cmap)[truelabels.astype(np.int), estimatedlabels.astype(int)]\n",
    "scatter(data[:,0],data[:,1],c=colors)"
   ]
  },
  {
   "cell_type": "markdown",
   "metadata": {},
   "source": [
    "And the types of errors made (blue points are correct; cmap[i][j] is the color corresponding to declaring class j when i was the true class):"
   ]
  },
  {
   "cell_type": "code",
   "execution_count": null,
   "metadata": {
    "collapsed": false
   },
   "outputs": [],
   "source": [
    "cmap=[['b','r','g'],['c','b','m'],['y','k','b']]\n",
    "colors = np.asarray(cmap)[truelabels.astype(np.int), estimatedlabels.astype(int)]\n",
    "scatter(data[:,0],data[:,1],c=colors)"
   ]
  },
  {
   "cell_type": "markdown",
   "metadata": {},
   "source": [
    "Note that depending on the application, you may need to weigh different types of errors differently (e.g. is it better to convict an innocent man, or let a guilty man go free?). So, it may be worthwhile to visualize the errors made by a classifier separately. \n",
    "\n",
    "You may want to (but are not required to) read about <a href=\"https://en.wikipedia.org/wiki/Type_I_and_type_II_errors#Example_3\">Type I and Type II errors</a> (false alarms and misses, in ECE313 parlance) and <a href=\"https://en.wikipedia.org/wiki/Precision_and_recall\">Precision and Recall</a> for some examples/details."
   ]
  },
  {
   "cell_type": "markdown",
   "metadata": {},
   "source": [
    "#### Problem 2 : Linear Discriminant Analysis (20 points)"
   ]
  },
  {
   "cell_type": "markdown",
   "metadata": {},
   "source": [
    "In this problem, you will implement Linear Discriminant Analysis (LDA). You will use the Bayes classifier from Problem 1 to do this. You will be given:\n",
    "* Training data feature vectors as a $(N,d)$ numpy.ndarray (trainfeat), where each row is a feature vector.\n",
    "* Training data labels as a length $N$ numpy.ndarray (trainlabel)\n",
    "\n",
    "The first function you will write will return a tuple of the estimates of the prior probabilities (as a $M$ length numpy.ndarray), means (as a $(M,d)$ numpy.ndarray) and covariance matrix (as a $(d,d)$ numpy.ndarray) in the LDA model. You may assume that labels $0,\\ldots,$trainlabel.max() exist in order to avoid some error checking. <b>(10 points)</b>"
   ]
  },
  {
   "cell_type": "code",
   "execution_count": null,
   "metadata": {
    "collapsed": false
   },
   "outputs": [],
   "source": [
    "def trainLDA(trainfeat,trainlabel):\n",
    "    nlabels=int(trainlabel.max())+1 #Assuming all labels up to nlabels exist.\n",
    "    pi=np.zeros(nlabels)\n",
    "    means=np.zeros((nlabels,trainfeat.shape[1]))\n",
    "    cov=np.zeros((trainfeat.shape[1],trainfeat.shape[1]))\n",
    "    # Put your code here\n",
    "    return (pi,means,cov)\n",
    "        \n",
    "    "
   ]
  },
  {
   "cell_type": "markdown",
   "metadata": {},
   "source": [
    "Now, we will load some data to validate our model."
   ]
  },
  {
   "cell_type": "code",
   "execution_count": null,
   "metadata": {
    "collapsed": false
   },
   "outputs": [],
   "source": [
    "# Loading the data\n",
    "traindata_tmp= genfromtxt('train.csv', delimiter=',')\n",
    "valdata_tmp= genfromtxt('val.csv', delimiter=',')\n",
    "\n",
    "#The data which you will use to train LDA is called \"trainingdata\"\n",
    "trainingdata=traindata_tmp[:,:2]\n",
    "#The corresponding labels are in \"traininglabels\"\n",
    "traininglabels=traindata_tmp[:,2]\n",
    "\n",
    "#The data which you will use to validate LDA is called \"valdata\"\n",
    "valdata=valdata_tmp[:,:2]\n",
    "#The corresponding labels are in \"vallabels\"\n",
    "vallabels=valdata_tmp[:,2]"
   ]
  },
  {
   "cell_type": "markdown",
   "metadata": {},
   "source": [
    "And we can visualize the training data:"
   ]
  },
  {
   "cell_type": "code",
   "execution_count": null,
   "metadata": {
    "collapsed": false
   },
   "outputs": [],
   "source": [
    "scatter(trainingdata[:,0],trainingdata[:,1],c=traininglabels)"
   ]
  },
  {
   "cell_type": "markdown",
   "metadata": {},
   "source": [
    "Use the bayesClassifier function you wrote in Problem 1 along with the trainLDA function from Problem 2 to implement the LDA classifier. Train the classifier on the training data, and then run the classifier on the training data and the validation data. Calculate the corresponding errors. Make sure to display the prior, means and covariance estimated in LDA. <b>(5 points)</b>"
   ]
  },
  {
   "cell_type": "code",
   "execution_count": null,
   "metadata": {
    "collapsed": false
   },
   "outputs": [],
   "source": [
    "# Put your code here\n"
   ]
  },
  {
   "cell_type": "markdown",
   "metadata": {},
   "source": [
    "We can also visualize the performance of the classifier on the validation data (blue=correct, red=error)."
   ]
  },
  {
   "cell_type": "code",
   "execution_count": null,
   "metadata": {
    "collapsed": false
   },
   "outputs": [],
   "source": [
    "#assuming your labels predicted on the validation data are in estimatedvallabels (change this appropriately if they aren't)\n",
    "cmap=['b','r']\n",
    "colors = np.asarray(cmap)[np.asarray(truelabels!=estimatedlabels).astype(int)]\n",
    "scatter(data[:,0],data[:,1],c=colors) "
   ]
  },
  {
   "cell_type": "markdown",
   "metadata": {},
   "source": [
    "Comment on the training error (error of the classifier on the training data) and the validation error (error of the classifier on the validation data). Which one is higher? Does this make sense? I will also tell you now that the data set was generated according to the parameters given in the final part of problem 1. Compare the results of the LDA classifier with the Bayes classifier. <b>(5 points)</b>"
   ]
  },
  {
   "cell_type": "markdown",
   "metadata": {},
   "source": [
    "[Insert your answer here]"
   ]
  },
  {
   "cell_type": "markdown",
   "metadata": {},
   "source": [
    "#### Problem 3: k-Nearest Neighbors (20 points)"
   ]
  },
  {
   "cell_type": "markdown",
   "metadata": {},
   "source": [
    "Implement the k-Nearest Neighbors algorithm.\n",
    "\n",
    "Your function will take:\n",
    "* Training data feature vectors as a $(N,d)$ numpy.ndarray (trainfeat), where each row is a feature vector\n",
    "* Training data labels as a length $N$ numpy.ndarray (trainlabel)\n",
    "* Test data feature vectors as a $(V,d)$ numpy.ndarray (testfeat), where each row is a feature vector\n",
    "* The value of k\n",
    "\n",
    "Use the Euclidean distance (scipy.spatial.distance.cdist) as your dissimilarity measure. \n",
    "\n",
    "Your function should return a length $V$ numpy.ndarray vector of the estimated labels. This should take around 4 lines of code. Do not use the kNN implementation in scikit-learn or similar.\n",
    "\n",
    "Some functions which may be useful (read the documentation):\n",
    "* The numpy.argpartition function can be used to find the $k$ smallest elements of an array (via slicing)\n",
    "* scipy.stats.mode can find the most common element in an array. \n",
    "\n",
    "<b>(10 points)</b>"
   ]
  },
  {
   "cell_type": "code",
   "execution_count": null,
   "metadata": {
    "collapsed": false
   },
   "outputs": [],
   "source": [
    "import scipy.spatial.distance as dist\n",
    "from scipy import stats\n",
    "def kNN(trainfeat,trainlabel,testfeat, k):\n",
    "    #Put your code here"
   ]
  },
  {
   "cell_type": "markdown",
   "metadata": {},
   "source": [
    "Run your k-Nearest Neighbors classifier with the training data from Problem 2, for $k=1,3,4,5$. Compute the training and validation error rates on the data from Problem 2. <b>(5 points)</b>"
   ]
  },
  {
   "cell_type": "code",
   "execution_count": null,
   "metadata": {
    "collapsed": false
   },
   "outputs": [],
   "source": [
    "# Put your code here"
   ]
  },
  {
   "cell_type": "markdown",
   "metadata": {},
   "source": [
    "Compare and contrast the results you got from LDA and k-Nearest Neighbors as well as the Bayes classifier from problem 1. What is special about the training error when you only have the standard nearest neighbor algorithm? Also, compare computational resources used. Out of LDA and k-NN, which classifier would you prefer in this problem? Why? <b>(5 points)</b>"
   ]
  },
  {
   "cell_type": "markdown",
   "metadata": {},
   "source": [
    "[Insert your answer here]"
   ]
  },
  {
   "cell_type": "markdown",
   "metadata": {},
   "source": [
    "#### Problem 4: LDA and kNN, again <b>(20 points)</b>"
   ]
  },
  {
   "cell_type": "markdown",
   "metadata": {},
   "source": [
    "In many cases, you will be using other people's libraries to implement learning algorithms. In this problem, you will become familiar with scikit-learn's implementation of LDA and kNN.\n",
    "\n",
    "First, we will load a data set of digits drawn from zip codes written on US mail. This data set was designed to help get good algorithms to sort mail by zip code automatically. It has been preprocessed a bit, with details given <a href=\"http://statweb.stanford.edu/~tibs/ElemStatLearn/datasets/zip.info.txt\">here</a>. Each feature vector consists of $16^2$ real values representing grayscale values of a 16 by 16 image of a digit. The training data has 7291 samples, while the validation data has 2007 samples. Note that this is not the same dataset built into scikit-learn -- it is much larger. "
   ]
  },
  {
   "cell_type": "code",
   "execution_count": null,
   "metadata": {
    "collapsed": false
   },
   "outputs": [],
   "source": [
    "#Loading the Data\n",
    "\n",
    "#Read in the Training Data\n",
    "traindata_tmp= genfromtxt('zip.train', delimiter=' ') \n",
    "\n",
    "#The training labels are stored in \"trainlabels\", training features in \"traindata\". Rows are feature vectors.\n",
    "trainlabels=traindata_tmp[:,0]\n",
    "traindata=traindata_tmp[:,1:]\n",
    "\n",
    "#Read in the Validation Data\n",
    "valdata_tmp= genfromtxt('zip.val', delimiter=' ') \n",
    "\n",
    "#The validation labels are stored in \"vallabels\", validation features in \"valdata\". Rows are feature vectors.\n",
    "vallabels=valdata_tmp[:,0]\n",
    "valdata=valdata_tmp[:,1:]"
   ]
  },
  {
   "cell_type": "markdown",
   "metadata": {},
   "source": [
    "Use scikit-learn's sklearn.neighbors.KNeighborsClassifier to run a Nearest Neighbor classifier (1-NN) on the validation data with the provided training set. Note that KNeighborsClassifier defaults to 5-NN. \n",
    "\n",
    "Measure the time for fitting the model and classification (the %timeit feature or time() or similar will be useful). Try the different algorithms possible to fit the model (ball tree, kd-tree and brute force, and specify the fastest one in your code). <b>(5 points)</b>"
   ]
  },
  {
   "cell_type": "code",
   "execution_count": null,
   "metadata": {
    "collapsed": false
   },
   "outputs": [],
   "source": [
    "# Insert code here\n",
    "from sklearn import neighbors\n"
   ]
  },
  {
   "cell_type": "markdown",
   "metadata": {},
   "source": [
    "[Insert your answer here]"
   ]
  },
  {
   "cell_type": "markdown",
   "metadata": {},
   "source": [
    "Now, run LDA on the validation data set with scikit-learn's sklearn.lda.LDA class. Measure the training time as well as the time used to classify the validation set. <b>(5 points)</b>"
   ]
  },
  {
   "cell_type": "code",
   "execution_count": null,
   "metadata": {
    "collapsed": false
   },
   "outputs": [],
   "source": [
    "# Insert code here\n",
    "from sklearn.lda import LDA\n"
   ]
  },
  {
   "cell_type": "markdown",
   "metadata": {},
   "source": [
    "[Insert your answer here]"
   ]
  },
  {
   "cell_type": "markdown",
   "metadata": {},
   "source": [
    "Based on the performance on the validation set, which algorithm would you pick? Your answer should also take into account computational resources required and the cost associated with making an error (in real life). <b>(5 points)</b>"
   ]
  },
  {
   "cell_type": "markdown",
   "metadata": {},
   "source": [
    "[Insert your answer here]"
   ]
  },
  {
   "cell_type": "markdown",
   "metadata": {},
   "source": [
    "Do you think the 0,1-loss is appropriate error measure in this case? If so, why or why not? How can you use domain-specific knowledge to help improve performance for this application?\n",
    "\n",
    "If you are interested in this in more detail on this problem, see O. Matan et al., \"Reading Handwritten Digits: A ZIP Code Recognition System\", IEEE Computer, Vol 25, Number 7, pp 59-63, 1992 (<a href=\"http://yann.lecun.com/exdb/publis/pdf/matan-92.pdf\">tech report version here</a>). You do not need to look at this to answer the question. <b>(5 points)</b>"
   ]
  },
  {
   "cell_type": "markdown",
   "metadata": {},
   "source": [
    "[Insert your answer here]"
   ]
  },
  {
   "cell_type": "code",
   "execution_count": null,
   "metadata": {
    "collapsed": false
   },
   "outputs": [],
   "source": []
  }
 ],
 "metadata": {
  "kernelspec": {
   "display_name": "Python 2",
   "language": "python",
   "name": "python2"
  },
  "language_info": {
   "codemirror_mode": {
    "name": "ipython",
    "version": 2
   },
   "file_extension": ".py",
   "mimetype": "text/x-python",
   "name": "python",
   "nbconvert_exporter": "python",
   "pygments_lexer": "ipython2",
   "version": "2.7.10"
  }
 },
 "nbformat": 4,
 "nbformat_minor": 0
}
