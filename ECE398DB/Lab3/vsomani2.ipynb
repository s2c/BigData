{
 "cells": [
  {
   "cell_type": "markdown",
   "metadata": {},
   "source": [
    "# Lab 3: SVM's, Kernel Tricks, Model Assessment and Selection [Classification, Part 2]"
   ]
  },
  {
   "cell_type": "markdown",
   "metadata": {},
   "source": [
    "## Name: Varun Somani netid: vsomani2"
   ]
  },
  {
   "cell_type": "markdown",
   "metadata": {},
   "source": [
    "## Due: February 11, 2016 12:00 AM [This is when Wednesday transitions to Thursday]"
   ]
  },
  {
   "cell_type": "markdown",
   "metadata": {},
   "source": [
    "### Logistics"
   ]
  },
  {
   "cell_type": "markdown",
   "metadata": {},
   "source": [
    "See the website."
   ]
  },
  {
   "cell_type": "markdown",
   "metadata": {},
   "source": [
    "### What You Will Need to Know For This Lab"
   ]
  },
  {
   "cell_type": "markdown",
   "metadata": {},
   "source": [
    "* Kernel Tricks\n",
    "* Support Vector Machines\n",
    "* Model Assessment and Selection with Cross-Validation (especially don't train on your test data!)"
   ]
  },
  {
   "cell_type": "markdown",
   "metadata": {},
   "source": [
    "### Preamble (don't change this)"
   ]
  },
  {
   "cell_type": "code",
   "execution_count": 1,
   "metadata": {
    "collapsed": false
   },
   "outputs": [
    {
     "name": "stdout",
     "output_type": "stream",
     "text": [
      "Populating the interactive namespace from numpy and matplotlib\n"
     ]
    },
    {
     "name": "stderr",
     "output_type": "stream",
     "text": [
      "C:\\Users\\rock-\\AppData\\Local\\Enthought\\Canopy\\User\\lib\\site-packages\\sklearn\\lda.py:4: DeprecationWarning: lda.LDA has been moved to discriminant_analysis.LinearDiscriminantAnalysis in 0.17 and will be removed in 0.19\n",
      "  \"in 0.17 and will be removed in 0.19\", DeprecationWarning)\n"
     ]
    }
   ],
   "source": [
    "%pylab inline\n",
    "import numpy as np\n",
    "from sklearn import neighbors\n",
    "from sklearn import svm\n",
    "from sklearn import cross_validation\n",
    "from numpy import genfromtxt\n",
    "from sklearn.lda import LDA\n",
    "from sklearn.preprocessing import MinMaxScaler"
   ]
  },
  {
   "cell_type": "markdown",
   "metadata": {},
   "source": [
    "### Problem 1: Cross-validation (25 points)"
   ]
  },
  {
   "cell_type": "markdown",
   "metadata": {},
   "source": [
    "Write a function which implements $5$-fold cross-validation to estimate the error of a classifier with cross-validation with the 0,1-loss for k-Nearest Neighbors (kNN). \n",
    "\n",
    "You will be given as input:\n",
    "* A (N,d) numpy.ndarray of training data, trainData (with N divisible by 5)\n",
    "* A length $N$ numpy.ndarray of training labels, trainLabels\n",
    "* A number $k$, for which cross-validated error estimates will be outputted for $1,\\ldots,k$\n",
    "\n",
    "Your output will be a vector (represented as a numpy.ndarray) err, such that err[i] is the cross-validated estimate of using i neighbors (err will be of length $k+1$; the zero-th component of the vector will be meaningless). \n",
    "\n",
    "So that this problem is easier to grade, take your folds to be 0:N/5, N/5:2N/5, ..., 4N/5:N for cross-validation (In general, the folds should be randomly divided).\n",
    "\n",
    "Use scikit-learn's sklearn.neighbors.KNeighborsClassifier to perform the training and classification for the kNN models involved. Do not use any other features of scikit-learn, such as things from sklearn.cross_validation. <b>(10 points)</b>"
   ]
  },
  {
   "cell_type": "code",
   "execution_count": 2,
   "metadata": {
    "collapsed": false
   },
   "outputs": [],
   "source": [
    "def classifierError(truelabels,estimatedlabels):\n",
    "    return float(np.sum(truelabels!=estimatedlabels))/truelabels.size\n",
    "def crossValidationkNN(trainData,trainLabels,k):\n",
    "    #Put your code here\n",
    "    err=np.zeros(k+1)\n",
    "    err[0]=100 # Set err[0] to some random meaningless value\n",
    "    length = trainData.shape[0]\n",
    "    for i in xrange(1,k+1):   \n",
    "        classifier = neighbors.KNeighborsClassifier(i)\n",
    "        for n in xrange(0,5):\n",
    "           valset =  trainData[(n*length)/5:((n+1)*length)/5,:] # get the right validation set training data\n",
    "           vallabels = trainLabels[(n*length)/5:((n+1)*length)/5] # get the right validation set testing data\n",
    "           trainset = np.delete(trainData,np.s_[(n*length)/5:((n+1)*length)/5],axis = 0)\n",
    "           trainla  = np.delete(trainLabels,np.s_[(n*length)/5:((n+1)*length)/5],axis = 0)\n",
    "           fits = classifier.fit(trainset,trainla)\n",
    "           result = fits.predict(valset)\n",
    "           err[i] += classifierError(result,vallabels)\n",
    "        err[i] = err[i]/5   \n",
    "    return err"
   ]
  },
  {
   "cell_type": "markdown",
   "metadata": {},
   "source": [
    "Now, we will load some data (acquired from <a href=\"http://www.cs.ubc.ca/~murphyk/\">K.P. Murphy</a>'s <a href=\"https://github.com/probml/pmtk3\"> PMTK tookit</a>)."
   ]
  },
  {
   "cell_type": "code",
   "execution_count": 3,
   "metadata": {
    "collapsed": false
   },
   "outputs": [],
   "source": [
    "problem1_tmp= genfromtxt('p1.csv', delimiter=',')\n",
    "#The training data which you will use is called \"traindata\"\n",
    "traindata=problem1_tmp[:200,:2]\n",
    "#The training labels are in \"labels\"\n",
    "trainlabels=problem1_tmp[:200,2]\n",
    "\n",
    "#The test data which you will use is called \"testdata\" with labels \"testlabels\"\n",
    "testdata=problem1_tmp[200:,:2]\n",
    "testlabels=problem1_tmp[200:,2]"
   ]
  },
  {
   "cell_type": "markdown",
   "metadata": {},
   "source": [
    "Plot the cross-validation error versus number of neighbors for $1,\\ldots,50$ neighbors. <b>(5 points)</b>"
   ]
  },
  {
   "cell_type": "code",
   "execution_count": 4,
   "metadata": {
    "collapsed": false
   },
   "outputs": [
    {
     "data": {
      "text/plain": [
       "[<matplotlib.lines.Line2D at 0xabe6518>]"
      ]
     },
     "execution_count": 4,
     "metadata": {},
     "output_type": "execute_result"
    },
    {
     "data": {
      "image/png": "[encoded data removed]",
      "text/plain": [
       "<matplotlib.figure.Figure at 0xaa73f98>"
      ]
     },
     "metadata": {},
     "output_type": "display_data"
    }
   ],
   "source": [
    "y = crossValidationkNN(traindata,trainlabels,50)\n",
    "x = np.linspace(1, 50, 50)\n",
    "#print(x.shape[0], y[])\n",
    "pylab.plot(x,y[1:])"
   ]
  },
  {
   "cell_type": "markdown",
   "metadata": {},
   "source": [
    "Select the number of neighbors which minimizes the cross-validation error. What is the cross-validation error for this number of neighbors? <b>(5 points)</b>"
   ]
  },
  {
   "cell_type": "code",
   "execution_count": 5,
   "metadata": {
    "collapsed": false
   },
   "outputs": [
    {
     "name": "stdout",
     "output_type": "stream",
     "text": [
      "(0.27000000000000002, ' is the lowest error at k = ', 16)\n"
     ]
    }
   ],
   "source": [
    "print (min(y) , \" is the lowest error at k = \" , np.argmin(y))"
   ]
  },
  {
   "cell_type": "markdown",
   "metadata": {},
   "source": [
    "K = 16, error is 0.27 or 27% which is the lowest"
   ]
  },
  {
   "cell_type": "markdown",
   "metadata": {},
   "source": [
    "Train a kNN model on the whole training data using the number of neighbors you found in the previous part of the question, and apply it to the test data. How does the test error compare to the cross-validation error you found in the last part of the problem? <b>(5 points)</b>\n",
    "\n",
    "For some ideas as to \"why\" you have this result, see section 7.10 of Elements of Statistical Learning, 2e, by Hastie et. al."
   ]
  },
  {
   "cell_type": "code",
   "execution_count": 6,
   "metadata": {
    "collapsed": false
   },
   "outputs": [
    {
     "name": "stdout",
     "output_type": "stream",
     "text": [
      "0.206\n"
     ]
    }
   ],
   "source": [
    " classifier = neighbors.KNeighborsClassifier(16)\n",
    " fits = classifier.fit(traindata,trainlabels)\n",
    " result = fits.predict(testdata)\n",
    " print(classifierError(result,testlabels))"
   ]
  },
  {
   "cell_type": "markdown",
   "metadata": {},
   "source": [
    "The test error is lower than the crossvalidation error, it is only 0.206 or about 21%"
   ]
  },
  {
   "cell_type": "markdown",
   "metadata": {},
   "source": [
    "### Problem 2: SVM's, Model Selection & Assessment (40 points)"
   ]
  },
  {
   "cell_type": "markdown",
   "metadata": {},
   "source": [
    "In this problem, you will be training a few SVM's with <a href=\"http://scikit-learn.org/stable/modules/svm.html#svm\">sklearn.svm</a> in order to perform model selection and assessment. \n",
    "\n",
    "You will be using sklearn.svm.SVC for non-linear kernels and sklearn.svm.LinearSVC for linear kernels. Your model selection  will be done with cross-validation via sklearn.cross_validation's cross_val_score. This returns the accuracy for each fold, i.e. the fraction of samples classified correctly. Thus, the cross-validation error is simply 1-mean(cross_val_score).\n",
    "\n",
    "All cross-validation should be 5-fold cross-validation.\n",
    "\n",
    "<b>Warning: This problem may require a lot of time to train the SVM's. Do not put this off until the last minute.</b>"
   ]
  },
  {
   "cell_type": "markdown",
   "metadata": {},
   "source": [
    "First, we load some data (acquired from <a href=\"https://archive.ics.uci.edu/ml/datasets/Spambase\">here</a>). We will use scikit-learn's train test split function to split the data. The data is scaled for reasons outlined <a href=\"http://www.csie.ntu.edu.tw/~cjlin/papers/guide/guide.pdf\">here</a>. In short, it helps avoid some numerical issues and avoids some problems with certain features which are typically large affecting the SVM optimization problem unfairly compared to features which are typically small. "
   ]
  },
  {
   "cell_type": "code",
   "execution_count": 7,
   "metadata": {
    "collapsed": false
   },
   "outputs": [],
   "source": [
    "from sklearn.cross_validation import train_test_split\n",
    "spambase= genfromtxt('spambase.data', delimiter=',')\n",
    "\n",
    "spambase_features=spambase[:,:-1]\n",
    "spambase_labels=spambase[:,-1]\n",
    "\n",
    "#The training data is in data_train with labels label_train. The test data is in data_test with labels label_test.\n",
    "data_train, data_test, label_train, label_test = train_test_split(spambase_features,spambase_labels,test_size=0.2,random_state=372015)\n",
    "\n",
    "# Rescale the training data and scale the test data correspondingly\n",
    "scaler=MinMaxScaler(feature_range=(-1,1))\n",
    "data_train=scaler.fit_transform(data_train) #Note that the scaling is determined solely via the training data!\n",
    "data_test=scaler.transform(data_test)"
   ]
  },
  {
   "cell_type": "markdown",
   "metadata": {},
   "source": [
    "Train a linear SVM with sklearn.svm.LinearSVC on the training data with the parameter $C$ varied from $2^{-5},2^{-4},\\ldots,2^{15}$. Which value of $C$ would you choose (and why), and what is its cross-validation error? The parameter $C$ controls how much points can be within the margin. <b>(10 points)</b>"
   ]
  },
  {
   "cell_type": "code",
   "execution_count": 13,
   "metadata": {
    "collapsed": false
   },
   "outputs": [
    {
     "name": "stdout",
     "output_type": "stream",
     "text": [
      "(0.075815217391304257, 'was the lowest error at C= ', 4)\n"
     ]
    }
   ],
   "source": [
    "#Put your code here\n",
    "begin = -5\n",
    "end =  15\n",
    "error = err=np.zeros(1+((end - begin)) )\n",
    "count = 0\n",
    "for i in xrange(begin,end + 1):\n",
    "    r = 2**i\n",
    "    clf = svm.LinearSVC(C=r)\n",
    "    scores=cross_validation.cross_val_score(\n",
    "    clf, data_train, label_train, cv=5)\n",
    "    error[count] = 1-mean(scores)\n",
    "    count = count + 1\n",
    "print(min(error), \"was the lowest error at C= \", 2**(-5 +(np.argmin(error))))\n"
   ]
  },
  {
   "cell_type": "markdown",
   "metadata": {},
   "source": [
    "The value of C I would choose would be C=4 as it had the lowest crossvalidation score"
   ]
  },
  {
   "cell_type": "markdown",
   "metadata": {},
   "source": [
    "You will now experiment with kernels. Using sklearn.svm.SVC, calculate the cross-validation error of a SVM using a RBF with parameters $(C,\\gamma)$ varied over $C=2^{-5},2^{-4},\\ldots,2^{15}$ and $\\gamma=2^{-15},\\ldots,2^{3}$ [So, you will try about 400 parameter choices]. Out of these, which was the best? What was its cross-validation error? This procedure is known as a *grid search*.\n",
    "\n",
    "The parameter $C$ controls the amount points can be within the margin, while $\\gamma$ is a parameter in the RBF. <b>(10 points)</b>"
   ]
  },
  {
   "cell_type": "code",
   "execution_count": 45,
   "metadata": {
    "collapsed": false
   },
   "outputs": [
    {
     "name": "stdout",
     "output_type": "stream",
     "text": [
      "Lowest Parameters: \n",
      "('C = ', 16384, 'G = ', 0.015625)\n"
     ]
    }
   ],
   "source": [
    "#Put your code here\n",
    "#Put your code here\n",
    "begin_c = -5\n",
    "end_c =  15\n",
    "begin_g = -15\n",
    "end_g = 3\n",
    "error_rbf = err=np.zeros((1 +(end_g-begin_g),1+(end_c - begin_c)) )\n",
    "print(error_rbf.shape)\n",
    "g_count = 0\n",
    "for g in xrange(begin_g,end_g + 1):    \n",
    "    c_count = 0\n",
    "    for i in xrange(begin_c,end_c + 1):\n",
    "        r = 2**i\n",
    "        l = 2**g\n",
    "        clf = svm.SVC(C=r,gamma = l)\n",
    "        scores=cross_validation.cross_val_score(\n",
    "        clf, data_train, label_train, cv=5)\n",
    "        error_rbf[g_count,c_count] = 1-mean(scores)\n",
    "        c_count = c_count + 1\n",
    "    g_count = g_count +1\n",
    "lowest_error = np.amin(error_rbf)\n",
    "t =np.unravel_index(error_rbf.argmin(), error_rbf.shape)\n",
    "c_loweest_error =2**(-5 +(t[1]))\n",
    "g_loweest_error =2**(-15 + t[0])\n",
    "print(\"Lowest Parameters: \")\n",
    "print( \"C = \",c_loweest_error,\"G = \",g_loweest_error)"
   ]
  },
  {
   "cell_type": "code",
   "execution_count": 64,
   "metadata": {
    "collapsed": false
   },
   "outputs": [
    {
     "name": "stdout",
     "output_type": "stream",
     "text": [
      "0.058152173913\n"
     ]
    }
   ],
   "source": [
    "print (lowest_error)"
   ]
  },
  {
   "cell_type": "markdown",
   "metadata": {},
   "source": [
    "The lowest error parameters were C = 16384 = 2^14 , G = 0.015625 = 2^-6 with cross validation error 0.058152173913"
   ]
  },
  {
   "cell_type": "markdown",
   "metadata": {},
   "source": [
    "Now, estimate the cross-validation error of applying LDA to this data.\n",
    "\n",
    "Between the linear SVM, the SVM using RBF's from the previous part of the problem, and the LDA classifier, which would you choose to use? Why? Make sure to take into account error and computational considerations.<b>(10 points)</b>"
   ]
  },
  {
   "cell_type": "code",
   "execution_count": 65,
   "metadata": {
    "collapsed": false
   },
   "outputs": [
    {
     "name": "stdout",
     "output_type": "stream",
     "text": [
      "0.108967391304\n"
     ]
    }
   ],
   "source": [
    "clf_lda = LDA()\n",
    "scores_lda=cross_validation.cross_val_score(\n",
    "clf_lda, data_train, label_train, cv=5)\n",
    "print (1 - mean(scores_lda))"
   ]
  },
  {
   "cell_type": "markdown",
   "metadata": {},
   "source": [
    "The lowest error was from SVM using RBF, but it took about 30 minutes to run completely on a beefy computer. The LDA ran the quickest, but it had about 11% error, which is significantly higher than both SVMs. The linear SVM was a healthy balance between the accuracy from using an SVM and the speed of an LDA, taking about 3-4 minutes to run. As such, if reasonable accuracy was a concern, I would pick the linear SVM, but if we  require a speedy solution with mostly correct predictions, an LDA works perfectly."
   ]
  },
  {
   "cell_type": "markdown",
   "metadata": {},
   "source": [
    "Use the parameters chosen in the previous problem to train a classifier on the whole training set. Then, estimate the prediction error using the test set. What is your estimate of the prediction error? How does it compare to the cross-validation error?  <b>(10 points)</b>"
   ]
  },
  {
   "cell_type": "code",
   "execution_count": 71,
   "metadata": {
    "collapsed": false
   },
   "outputs": [
    {
     "name": "stdout",
     "output_type": "stream",
     "text": [
      "0.0901194353963\n",
      "0.0684039087948\n"
     ]
    }
   ],
   "source": [
    "clf_svm_line = svm.LinearSVC(C=4)\n",
    "clf_svm_line.fit(data_train,label_train)\n",
    "predictions_line = clf_svm_line.predict(data_test)\n",
    "print (classifierError(predictions_line,label_test))\n",
    "\n",
    "clf_svm_rbf = svm.SVC(C=16384, gamma=0.015625)\n",
    "clf_svm_rbf.fit(data_train,label_train)\n",
    "predictions_rbf = clf_svm_rbf.predict(data_test)\n",
    "print (classifierError(predictions_rbf,label_test))"
   ]
  },
  {
   "cell_type": "markdown",
   "metadata": {},
   "source": [
    "Error for the linear svm with the optimized parameters was 0.09, which was also slightly higher than the cross validation error\n",
    "Error for the rbf svm with the optimized parameters was 0.07, which was also slightly higher than the cross validation error\n",
    "These results were about what we expected, as genaralisation error is usually higher."
   ]
  },
  {
   "cell_type": "code",
   "execution_count": null,
   "metadata": {
    "collapsed": false
   },
   "outputs": [],
   "source": []
  }
 ],
 "metadata": {
  "kernelspec": {
   "display_name": "Python 2",
   "language": "python",
   "name": "python2"
  },
  "language_info": {
   "codemirror_mode": {
    "name": "ipython",
    "version": 2
   },
   "file_extension": ".py",
   "mimetype": "text/x-python",
   "name": "python",
   "nbconvert_exporter": "python",
   "pygments_lexer": "ipython2",
   "version": "2.7.10"
  }
 },
 "nbformat": 4,
 "nbformat_minor": 0
}
